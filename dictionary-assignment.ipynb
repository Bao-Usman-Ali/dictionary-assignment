{
 "cells": [
  {
   "cell_type": "code",
   "execution_count": 28,
   "metadata": {},
   "outputs": [
    {
     "name": "stdout",
     "output_type": "stream",
     "text": [
      "Enter value1 for table: 5\n",
      "Enter value2 for table: 10\n",
      "1 x 5 = 5\n",
      "2 x 5 = 10\n",
      "3 x 5 = 15\n",
      "4 x 5 = 20\n",
      "5 x 5 = 25\n",
      "6 x 5 = 30\n",
      "7 x 5 = 35\n",
      "8 x 5 = 40\n",
      "9 x 5 = 45\n",
      "10 x 5 = 50\n",
      "\n",
      "\n",
      "1 x 6 = 6\n",
      "2 x 6 = 12\n",
      "3 x 6 = 18\n",
      "4 x 6 = 24\n",
      "5 x 6 = 30\n",
      "6 x 6 = 36\n",
      "7 x 6 = 42\n",
      "8 x 6 = 48\n",
      "9 x 6 = 54\n",
      "10 x 6 = 60\n",
      "\n",
      "\n",
      "1 x 7 = 7\n",
      "2 x 7 = 14\n",
      "3 x 7 = 21\n",
      "4 x 7 = 28\n",
      "5 x 7 = 35\n",
      "6 x 7 = 42\n",
      "7 x 7 = 49\n",
      "8 x 7 = 56\n",
      "9 x 7 = 63\n",
      "10 x 7 = 70\n",
      "\n",
      "\n",
      "1 x 8 = 8\n",
      "2 x 8 = 16\n",
      "3 x 8 = 24\n",
      "4 x 8 = 32\n",
      "5 x 8 = 40\n",
      "6 x 8 = 48\n",
      "7 x 8 = 56\n",
      "8 x 8 = 64\n",
      "9 x 8 = 72\n",
      "10 x 8 = 80\n",
      "\n",
      "\n",
      "1 x 9 = 9\n",
      "2 x 9 = 18\n",
      "3 x 9 = 27\n",
      "4 x 9 = 36\n",
      "5 x 9 = 45\n",
      "6 x 9 = 54\n",
      "7 x 9 = 63\n",
      "8 x 9 = 72\n",
      "9 x 9 = 81\n",
      "10 x 9 = 90\n",
      "\n",
      "\n",
      "1 x 10 = 10\n",
      "2 x 10 = 20\n",
      "3 x 10 = 30\n",
      "4 x 10 = 40\n",
      "5 x 10 = 50\n",
      "6 x 10 = 60\n",
      "7 x 10 = 70\n",
      "8 x 10 = 80\n",
      "9 x 10 = 90\n",
      "10 x 10 = 100\n",
      "\n",
      "\n"
     ]
    }
   ],
   "source": [
    "start = int(input(\"Enter value1 for table: \"))\n",
    "end = int(input(\"Enter value2 for table: \"))\n",
    "while start <= end:\n",
    "    for i in range(1,11):\n",
    "        print(i, 'x', start, \"=\",start*i)\n",
    "    start += 1\n",
    "    print('\\n')\n",
    "        \n",
    "        \n",
    "        \n",
    "        "
   ]
  },
  {
   "cell_type": "code",
   "execution_count": 29,
   "metadata": {},
   "outputs": [
    {
     "name": "stdout",
     "output_type": "stream",
     "text": [
      "Enter value1 for table: 5\n",
      "Enter value2 for table: 9\n",
      "1 * 5 = 5\t2 * 5 = 10\t3 * 5 = 15\t4 * 5 = 20\t5 * 5 = 25\t6 * 5 = 30\t7 * 5 = 35\t8 * 5 = 40\t9 * 5 = 45\t10 * 5 = 50\t\n",
      "1 * 6 = 6\t2 * 6 = 12\t3 * 6 = 18\t4 * 6 = 24\t5 * 6 = 30\t6 * 6 = 36\t7 * 6 = 42\t8 * 6 = 48\t9 * 6 = 54\t10 * 6 = 60\t\n",
      "1 * 7 = 7\t2 * 7 = 14\t3 * 7 = 21\t4 * 7 = 28\t5 * 7 = 35\t6 * 7 = 42\t7 * 7 = 49\t8 * 7 = 56\t9 * 7 = 63\t10 * 7 = 70\t\n",
      "1 * 8 = 8\t2 * 8 = 16\t3 * 8 = 24\t4 * 8 = 32\t5 * 8 = 40\t6 * 8 = 48\t7 * 8 = 56\t8 * 8 = 64\t9 * 8 = 72\t10 * 8 = 80\t\n",
      "1 * 9 = 9\t2 * 9 = 18\t3 * 9 = 27\t4 * 9 = 36\t5 * 9 = 45\t6 * 9 = 54\t7 * 9 = 63\t8 * 9 = 72\t9 * 9 = 81\t10 * 9 = 90\t\n"
     ]
    }
   ],
   "source": [
    "start = int(input(\"Enter value1 for table: \"))\n",
    "end = int(input(\"Enter value2 for table: \"))\n",
    "while start <= end:\n",
    "    for i in range(1,11):\n",
    "         print(f\"{i} * {start} = {i*start}\", end=\"\\t\")\n",
    "    print()\n",
    "    start += 1\n",
    "\n",
    "    \n",
    "\n",
    "        \n",
    "        "
   ]
  },
  {
   "cell_type": "code",
   "execution_count": 30,
   "metadata": {},
   "outputs": [
    {
     "name": "stdout",
     "output_type": "stream",
     "text": [
      "enter your name: usman ali\n",
      "enter your age: 22\n",
      "enter your work: AI\n",
      "enter your skills separated by ',' and spacepython, tensorFlow, cloud\n",
      "key1: title\n",
      "key2: major\n",
      "key3: completionDate\n",
      "value1: BS\n",
      "value2: Computer Science\n",
      "value3: jun 2020\n",
      "enter salary: 320000\n",
      "enter your name: Faizan Ahmad\n",
      "enter your age: 24\n",
      "enter your work: Cloud Native\n",
      "enter your skills separated by ',' and spacepython, docker, html\n",
      "key1: titlt\n",
      "key2: major\n",
      "key3: completionDate\n",
      "value1: BS\n",
      "value2: software engineering\n",
      "value3: may 2020\n",
      "enter salary: 29800\n",
      "enter your name: Abu Bakr\n",
      "enter your age: 34\n",
      "enter your work: Blockchain\n",
      "enter your skills separated by ',' and spacepython, c++, css\n",
      "key1: title\n",
      "key2: major\n",
      "key3: completionDate\n",
      "value1: BS\n",
      "value2: Information Technology\n",
      "value3: may 2022\n",
      "enter salary: 378000\n"
     ]
    }
   ],
   "source": [
    "data = []\n",
    "for i in range(3):\n",
    "    dic = {}\n",
    "    \n",
    "    dic[\"name\"] = input(\"enter your name: \").title()\n",
    "    dic[\"age\"] = int(input(\"enter your age: \"))\n",
    "    dic[\"work\"] = input(\"enter your work: \")    \n",
    "    skills = input(\"enter your skills separated by ',' and space\")\n",
    "    skills2 = [skills]\n",
    "    dic[\"skills\"] = skills2\n",
    "    key1 = input(\"key1: \")\n",
    "    key2 = input(\"key2: \")\n",
    "    key3 = input(\"key3: \")\n",
    "    value1 = input(\"value1: \")\n",
    "    value2 = input(\"value2: \")\n",
    "    value3 = input(\"value3: \")\n",
    "    dic[\"degree\"] = {key1:value1, key2:value2, key3:value3}\n",
    "    dic[\"salary\"] = int(input(\"enter salary: \"))\n",
    "    \n",
    "    \n",
    "    \n",
    "    data.append(dic)"
   ]
  },
  {
   "cell_type": "code",
   "execution_count": 31,
   "metadata": {},
   "outputs": [
    {
     "data": {
      "text/plain": [
       "[{'name': 'Usman Ali',\n",
       "  'age': 22,\n",
       "  'work': 'AI',\n",
       "  'skills': ['python, tensorFlow, cloud'],\n",
       "  'degree': {'title': 'BS',\n",
       "   'major': 'Computer Science',\n",
       "   'completionDate': 'jun 2020'},\n",
       "  'salary': 320000},\n",
       " {'name': 'Faizan Ahmad',\n",
       "  'age': 24,\n",
       "  'work': 'Cloud Native',\n",
       "  'skills': ['python, docker, html'],\n",
       "  'degree': {'titlt': 'BS',\n",
       "   'major': 'software engineering',\n",
       "   'completionDate': 'may 2020'},\n",
       "  'salary': 29800},\n",
       " {'name': 'Abu Bakr',\n",
       "  'age': 34,\n",
       "  'work': 'Blockchain',\n",
       "  'skills': ['python, c++, css'],\n",
       "  'degree': {'title': 'BS',\n",
       "   'major': 'Information Technology',\n",
       "   'completionDate': 'may 2022'},\n",
       "  'salary': 378000}]"
      ]
     },
     "execution_count": 31,
     "metadata": {},
     "output_type": "execute_result"
    }
   ],
   "source": [
    "data\n"
   ]
  },
  {
   "cell_type": "code",
   "execution_count": null,
   "metadata": {},
   "outputs": [],
   "source": []
  },
  {
   "cell_type": "code",
   "execution_count": null,
   "metadata": {},
   "outputs": [],
   "source": []
  }
 ],
 "metadata": {
  "kernelspec": {
   "display_name": "Python 3",
   "language": "python",
   "name": "python3"
  },
  "language_info": {
   "codemirror_mode": {
    "name": "ipython",
    "version": 3
   },
   "file_extension": ".py",
   "mimetype": "text/x-python",
   "name": "python",
   "nbconvert_exporter": "python",
   "pygments_lexer": "ipython3",
   "version": "3.7.3"
  }
 },
 "nbformat": 4,
 "nbformat_minor": 2
}
